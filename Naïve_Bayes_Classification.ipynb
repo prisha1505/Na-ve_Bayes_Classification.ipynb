{
  "nbformat": 4,
  "nbformat_minor": 0,
  "metadata": {
    "colab": {
      "provenance": [],
      "authorship_tag": "ABX9TyO1HiTghfbC2HdiycJrTCcM",
      "include_colab_link": true
    },
    "kernelspec": {
      "name": "python3",
      "display_name": "Python 3"
    },
    "language_info": {
      "name": "python"
    }
  },
  "cells": [
    {
      "cell_type": "markdown",
      "metadata": {
        "id": "view-in-github",
        "colab_type": "text"
      },
      "source": [
        "<a href=\"https://colab.research.google.com/github/prisha1505/Naive_Bayes_Classification.ipynb/blob/main/Na%C3%AFve_Bayes_Classification.ipynb\" target=\"_parent\"><img src=\"https://colab.research.google.com/assets/colab-badge.svg\" alt=\"Open In Colab\"/></a>"
      ]
    },
    {
      "cell_type": "code",
      "execution_count": 1,
      "metadata": {
        "id": "8agIJsBMzCkp"
      },
      "outputs": [],
      "source": [
        "# Importing the libraries\n",
        "import numpy as np\n",
        "import matplotlib.pyplot as plt\n",
        "import pandas as pd"
      ]
    },
    {
      "cell_type": "code",
      "source": [
        "# Mounting Google Drive\n",
        "from google.colab import drive\n",
        "drive.mount('/content/drive')\n"
      ],
      "metadata": {
        "colab": {
          "base_uri": "https://localhost:8080/"
        },
        "id": "9pJ0JEvTz35A",
        "outputId": "162c0b71-8256-4339-ec72-785b9f6d5379"
      },
      "execution_count": 2,
      "outputs": [
        {
          "output_type": "stream",
          "name": "stdout",
          "text": [
            "Mounted at /content/drive\n"
          ]
        }
      ]
    },
    {
      "cell_type": "code",
      "source": [
        "# importing Dataset from Local drive\n",
        "from google.colab import files\n",
        "Uploaded=files.upload()\n"
      ],
      "metadata": {
        "colab": {
          "base_uri": "https://localhost:8080/",
          "height": 73
        },
        "id": "rb7pWSgT0Mwo",
        "outputId": "ad74edaa-4382-47cf-c3e5-1f56b6200e18"
      },
      "execution_count": 3,
      "outputs": [
        {
          "output_type": "display_data",
          "data": {
            "text/plain": [
              "<IPython.core.display.HTML object>"
            ],
            "text/html": [
              "\n",
              "     <input type=\"file\" id=\"files-ec77510f-c920-4fc5-a67d-812220186cc9\" name=\"files[]\" multiple disabled\n",
              "        style=\"border:none\" />\n",
              "     <output id=\"result-ec77510f-c920-4fc5-a67d-812220186cc9\">\n",
              "      Upload widget is only available when the cell has been executed in the\n",
              "      current browser session. Please rerun this cell to enable.\n",
              "      </output>\n",
              "      <script>// Copyright 2017 Google LLC\n",
              "//\n",
              "// Licensed under the Apache License, Version 2.0 (the \"License\");\n",
              "// you may not use this file except in compliance with the License.\n",
              "// You may obtain a copy of the License at\n",
              "//\n",
              "//      http://www.apache.org/licenses/LICENSE-2.0\n",
              "//\n",
              "// Unless required by applicable law or agreed to in writing, software\n",
              "// distributed under the License is distributed on an \"AS IS\" BASIS,\n",
              "// WITHOUT WARRANTIES OR CONDITIONS OF ANY KIND, either express or implied.\n",
              "// See the License for the specific language governing permissions and\n",
              "// limitations under the License.\n",
              "\n",
              "/**\n",
              " * @fileoverview Helpers for google.colab Python module.\n",
              " */\n",
              "(function(scope) {\n",
              "function span(text, styleAttributes = {}) {\n",
              "  const element = document.createElement('span');\n",
              "  element.textContent = text;\n",
              "  for (const key of Object.keys(styleAttributes)) {\n",
              "    element.style[key] = styleAttributes[key];\n",
              "  }\n",
              "  return element;\n",
              "}\n",
              "\n",
              "// Max number of bytes which will be uploaded at a time.\n",
              "const MAX_PAYLOAD_SIZE = 100 * 1024;\n",
              "\n",
              "function _uploadFiles(inputId, outputId) {\n",
              "  const steps = uploadFilesStep(inputId, outputId);\n",
              "  const outputElement = document.getElementById(outputId);\n",
              "  // Cache steps on the outputElement to make it available for the next call\n",
              "  // to uploadFilesContinue from Python.\n",
              "  outputElement.steps = steps;\n",
              "\n",
              "  return _uploadFilesContinue(outputId);\n",
              "}\n",
              "\n",
              "// This is roughly an async generator (not supported in the browser yet),\n",
              "// where there are multiple asynchronous steps and the Python side is going\n",
              "// to poll for completion of each step.\n",
              "// This uses a Promise to block the python side on completion of each step,\n",
              "// then passes the result of the previous step as the input to the next step.\n",
              "function _uploadFilesContinue(outputId) {\n",
              "  const outputElement = document.getElementById(outputId);\n",
              "  const steps = outputElement.steps;\n",
              "\n",
              "  const next = steps.next(outputElement.lastPromiseValue);\n",
              "  return Promise.resolve(next.value.promise).then((value) => {\n",
              "    // Cache the last promise value to make it available to the next\n",
              "    // step of the generator.\n",
              "    outputElement.lastPromiseValue = value;\n",
              "    return next.value.response;\n",
              "  });\n",
              "}\n",
              "\n",
              "/**\n",
              " * Generator function which is called between each async step of the upload\n",
              " * process.\n",
              " * @param {string} inputId Element ID of the input file picker element.\n",
              " * @param {string} outputId Element ID of the output display.\n",
              " * @return {!Iterable<!Object>} Iterable of next steps.\n",
              " */\n",
              "function* uploadFilesStep(inputId, outputId) {\n",
              "  const inputElement = document.getElementById(inputId);\n",
              "  inputElement.disabled = false;\n",
              "\n",
              "  const outputElement = document.getElementById(outputId);\n",
              "  outputElement.innerHTML = '';\n",
              "\n",
              "  const pickedPromise = new Promise((resolve) => {\n",
              "    inputElement.addEventListener('change', (e) => {\n",
              "      resolve(e.target.files);\n",
              "    });\n",
              "  });\n",
              "\n",
              "  const cancel = document.createElement('button');\n",
              "  inputElement.parentElement.appendChild(cancel);\n",
              "  cancel.textContent = 'Cancel upload';\n",
              "  const cancelPromise = new Promise((resolve) => {\n",
              "    cancel.onclick = () => {\n",
              "      resolve(null);\n",
              "    };\n",
              "  });\n",
              "\n",
              "  // Wait for the user to pick the files.\n",
              "  const files = yield {\n",
              "    promise: Promise.race([pickedPromise, cancelPromise]),\n",
              "    response: {\n",
              "      action: 'starting',\n",
              "    }\n",
              "  };\n",
              "\n",
              "  cancel.remove();\n",
              "\n",
              "  // Disable the input element since further picks are not allowed.\n",
              "  inputElement.disabled = true;\n",
              "\n",
              "  if (!files) {\n",
              "    return {\n",
              "      response: {\n",
              "        action: 'complete',\n",
              "      }\n",
              "    };\n",
              "  }\n",
              "\n",
              "  for (const file of files) {\n",
              "    const li = document.createElement('li');\n",
              "    li.append(span(file.name, {fontWeight: 'bold'}));\n",
              "    li.append(span(\n",
              "        `(${file.type || 'n/a'}) - ${file.size} bytes, ` +\n",
              "        `last modified: ${\n",
              "            file.lastModifiedDate ? file.lastModifiedDate.toLocaleDateString() :\n",
              "                                    'n/a'} - `));\n",
              "    const percent = span('0% done');\n",
              "    li.appendChild(percent);\n",
              "\n",
              "    outputElement.appendChild(li);\n",
              "\n",
              "    const fileDataPromise = new Promise((resolve) => {\n",
              "      const reader = new FileReader();\n",
              "      reader.onload = (e) => {\n",
              "        resolve(e.target.result);\n",
              "      };\n",
              "      reader.readAsArrayBuffer(file);\n",
              "    });\n",
              "    // Wait for the data to be ready.\n",
              "    let fileData = yield {\n",
              "      promise: fileDataPromise,\n",
              "      response: {\n",
              "        action: 'continue',\n",
              "      }\n",
              "    };\n",
              "\n",
              "    // Use a chunked sending to avoid message size limits. See b/62115660.\n",
              "    let position = 0;\n",
              "    do {\n",
              "      const length = Math.min(fileData.byteLength - position, MAX_PAYLOAD_SIZE);\n",
              "      const chunk = new Uint8Array(fileData, position, length);\n",
              "      position += length;\n",
              "\n",
              "      const base64 = btoa(String.fromCharCode.apply(null, chunk));\n",
              "      yield {\n",
              "        response: {\n",
              "          action: 'append',\n",
              "          file: file.name,\n",
              "          data: base64,\n",
              "        },\n",
              "      };\n",
              "\n",
              "      let percentDone = fileData.byteLength === 0 ?\n",
              "          100 :\n",
              "          Math.round((position / fileData.byteLength) * 100);\n",
              "      percent.textContent = `${percentDone}% done`;\n",
              "\n",
              "    } while (position < fileData.byteLength);\n",
              "  }\n",
              "\n",
              "  // All done.\n",
              "  yield {\n",
              "    response: {\n",
              "      action: 'complete',\n",
              "    }\n",
              "  };\n",
              "}\n",
              "\n",
              "scope.google = scope.google || {};\n",
              "scope.google.colab = scope.google.colab || {};\n",
              "scope.google.colab._files = {\n",
              "  _uploadFiles,\n",
              "  _uploadFilesContinue,\n",
              "};\n",
              "})(self);\n",
              "</script> "
            ]
          },
          "metadata": {}
        },
        {
          "output_type": "stream",
          "name": "stdout",
          "text": [
            "Saving DATASET education.xlsx to DATASET education.xlsx\n"
          ]
        }
      ]
    },
    {
      "cell_type": "code",
      "source": [
        "dataset = pd.read_excel('/content/drive/MyDrive/DATASET education.xlsx')"
      ],
      "metadata": {
        "id": "mWfPKIED1EYS"
      },
      "execution_count": 4,
      "outputs": []
    },
    {
      "cell_type": "code",
      "source": [
        "#Print Total number of Rows & columns in dataset\n",
        "print(dataset.shape)\n"
      ],
      "metadata": {
        "colab": {
          "base_uri": "https://localhost:8080/"
        },
        "id": "4ZTPwuko1L14",
        "outputId": "5d914619-016f-4977-c111-5d9f69944c83"
      },
      "execution_count": 5,
      "outputs": [
        {
          "output_type": "stream",
          "name": "stdout",
          "text": [
            "(119, 10)\n"
          ]
        }
      ]
    },
    {
      "cell_type": "code",
      "source": [
        "#Print Imformation about data\n",
        "dataset.info()\n"
      ],
      "metadata": {
        "colab": {
          "base_uri": "https://localhost:8080/"
        },
        "id": "sxD40tFZ1OtQ",
        "outputId": "9e61be60-eb32-46fe-8fea-c351e2fbbaf9"
      },
      "execution_count": 6,
      "outputs": [
        {
          "output_type": "stream",
          "name": "stdout",
          "text": [
            "<class 'pandas.core.frame.DataFrame'>\n",
            "RangeIndex: 119 entries, 0 to 118\n",
            "Data columns (total 10 columns):\n",
            " #   Column             Non-Null Count  Dtype  \n",
            "---  ------             --------------  -----  \n",
            " 0   10th               119 non-null    float64\n",
            " 1   12th               119 non-null    float64\n",
            " 2   B.Tech             119 non-null    float64\n",
            " 3   7-SEM              119 non-null    float64\n",
            " 4   6-SEM              119 non-null    float64\n",
            " 5   5-SEM              119 non-null    float64\n",
            " 6   Final Performance  119 non-null    float64\n",
            " 7   Medium             119 non-null    int64  \n",
            " 8   Package            119 non-null    object \n",
            " 9   Placed             119 non-null    int64  \n",
            "dtypes: float64(7), int64(2), object(1)\n",
            "memory usage: 9.4+ KB\n"
          ]
        }
      ]
    },
    {
      "cell_type": "code",
      "source": [
        "# Extracting dependent and independent variables:\n",
        "# Extracting independent variable:\n",
        "X = dataset.iloc[:, 0:8].values\n",
        "# Extracting dependent variable:\n",
        "y = dataset.iloc[:, 9].values\n"
      ],
      "metadata": {
        "id": "sgR7dfFA1RkQ"
      },
      "execution_count": 7,
      "outputs": []
    },
    {
      "cell_type": "code",
      "source": [
        "# Splitting the dataset into the Training set and Test set\n",
        "from sklearn.model_selection import train_test_split\n",
        "\n",
        "\n",
        "X_train, X_test, y_train, y_test = train_test_split(X, y, test_size = 0.25, random_state = 0)\n"
      ],
      "metadata": {
        "id": "k2zPx-XK1VyO"
      },
      "execution_count": 8,
      "outputs": []
    },
    {
      "cell_type": "code",
      "source": [
        "# Feature Scaling\n",
        "from sklearn.preprocessing import StandardScaler\n",
        "sc = StandardScaler()\n",
        "X_train = sc.fit_transform(X_train)\n",
        "X_test = sc.transform(X_test)"
      ],
      "metadata": {
        "id": "Bud6QO5A1ZwD"
      },
      "execution_count": 9,
      "outputs": []
    },
    {
      "cell_type": "code",
      "source": [
        "print(X_train)\n"
      ],
      "metadata": {
        "colab": {
          "base_uri": "https://localhost:8080/"
        },
        "id": "zPhktgnN1c7e",
        "outputId": "345efcb0-4924-4638-c74c-28bd620c7fae"
      },
      "execution_count": 10,
      "outputs": [
        {
          "output_type": "stream",
          "name": "stdout",
          "text": [
            "[[ 5.15384898e-01  1.98834927e+00  3.84640577e-01  6.17415734e-01\n",
            "   1.75677284e-01 -2.76414019e-01  5.28392939e-01  1.91942974e+00]\n",
            " [ 6.67535014e-01 -1.73812159e-01  7.55602697e-01  1.32350678e+00\n",
            "  -1.88791741e+00 -1.09828855e+00  7.32671476e-01 -5.20988072e-01]\n",
            " [ 4.50177706e-01  1.59522901e+00  7.92176427e-01 -4.56958528e-02\n",
            "  -7.56761799e-01  3.11598328e-01 -9.19049048e-02 -5.20988072e-01]\n",
            " [-3.02753923e+00 -1.80526123e+00 -7.54369875e-01 -1.32126467e+00\n",
            "   4.18067772e-01  8.22962062e-01 -9.80843017e-01 -5.20988072e-01]\n",
            " [-1.28868076e+00 -1.21558085e+00 -1.31342546e+00  2.01436012e-01\n",
            "  -1.85724749e-01 -9.80238502e-01 -1.44842717e-02 -5.20988072e-01]\n",
            " [-6.36608835e-01 -8.42116600e-01 -6.02850136e-01 -1.94588964e-01\n",
            "   2.08432756e-01 -6.84833631e-01 -2.63536188e-01 -5.20988072e-01]\n",
            " [-2.67101411e-01 -6.25900457e-01 -6.99186398e-02  8.28475556e-01\n",
            "   1.24459750e+00 -2.99352654e-01  8.60462160e-01 -5.20988072e-01]\n",
            " [ 1.75432156e+00  6.51740385e-01  5.10036224e-01  1.58456557e-01\n",
            "  -2.88358559e-01 -6.74517846e-03  1.01180289e-01 -5.20988072e-01]\n",
            " [ 1.53696425e+00  1.60340061e-01  7.97401246e-01  2.72045116e-01\n",
            "  -2.39225352e-01  6.48964117e-01  3.21316065e-01 -5.20988072e-01]\n",
            " [ 8.19685130e-01  6.32084372e-01  5.30935498e-01  2.77417548e-01\n",
            "   6.32070184e-01  1.91310360e-01  3.67955000e-01  1.91942974e+00]\n",
            " [ 4.95937139e-01  5.73116333e-01  7.63762807e-02 -3.62669331e-01\n",
            "  -5.72239310e-01 -1.38642020e+00 -6.41311566e-01  1.91942974e+00]\n",
            " [-1.07132345e+00 -7.63492548e-01  4.52563219e-01  5.79041221e-01\n",
            "   2.49923019e-01  1.43195172e-01  5.75964653e-01 -5.20988072e-01]\n",
            " [-6.48048694e-01  3.76556203e-01 -4.09531848e-01 -4.30975965e-01\n",
            "  -5.18738707e-01 -6.92106857e-01 -5.76017056e-01  1.91942974e+00]\n",
            " [ 1.48777286e+00  1.37901286e+00  6.45881507e-01  6.97234721e-01\n",
            "   9.15950936e-01 -1.49971782e-01  7.23343689e-01 -5.20988072e-01]\n",
            " [-1.07132345e+00  6.20599960e-02 -2.20686944e+00 -3.54226938e-01\n",
            "  -7.74231384e-01 -1.49272119e+00 -6.80488272e-01 -5.20988072e-01]\n",
            " [-1.28868076e+00 -1.21558085e+00 -3.67733299e-01  6.38905461e-01\n",
            "  -3.66971690e-01 -1.03898379e+00  3.41837196e-01 -5.20988072e-01]\n",
            " [ 7.62485838e-01  1.75247711e+00  4.05539852e-01  8.02846556e-03\n",
            "  -3.95359765e-01  1.94107754e-01 -1.35514930e-02  1.91942974e+00]\n",
            " [ 1.96367096e+00  1.49694894e+00  6.14532595e-01 -2.19148652e-01\n",
            "   2.99056226e-01  2.40261622e-02 -1.49737185e-01 -5.20988072e-01]\n",
            " [-6.36608835e-01 -1.11730078e+00  1.33849285e-01 -5.00817578e-01\n",
            "  -9.58753872e-01 -6.96023210e-01 -7.00076625e-01 -5.20988072e-01]\n",
            " [-2.01894219e-01 -1.33351692e+00 -5.76726043e-01  7.62471394e-01\n",
            "   8.83195464e-01 -3.73763351e-01  7.38268149e-01 -5.20988072e-01]\n",
            " [ 9.55420977e-02  1.69350907e+00  1.42960430e+00  5.48453716e-02\n",
            "   1.68034341e-01  8.02820821e-01  2.10315398e-01  1.91942974e+00]\n",
            " [ 1.10568159e+00  1.02520463e+00  1.45572839e+00  7.01072173e-01\n",
            "   7.67459466e-01 -1.22417131e+00  5.20930709e-01 -5.20988072e-01]\n",
            " [-2.01894219e-01  4.15868229e-01  4.89136949e-01 -4.63682260e+00\n",
            "  -2.64337880e-01  1.35782391e+00 -3.94521376e+00 -5.20988072e-01]\n",
            " [ 1.10224963e+00  8.67956527e-01  2.74919387e-01  8.39987910e-01\n",
            "  -6.34474706e-01 -3.88309803e-01  5.95553006e-01 -5.20988072e-01]\n",
            " [ 4.38737848e-01  1.41832489e+00  1.25718528e+00 -2.51383243e-01\n",
            "   1.69662300e+00 -5.52796606e-01 -8.53754538e-02 -5.20988072e-01]\n",
            " [-8.53966144e-01 -1.84457326e+00 -1.25072764e+00 -1.27049821e-01\n",
            "  -2.22847617e-01 -6.75881969e-01 -2.60737852e-01 -5.20988072e-01]\n",
            " [ 2.32820398e-01 -6.06244444e-01  1.07725192e-01  7.67843825e-01\n",
            "  -1.40958938e-01 -6.82595716e-01  5.48914070e-01 -5.20988072e-01]\n",
            " [ 1.54630894e-02 -2.13124185e-01  7.81726790e-01  1.05104773e+00\n",
            "   7.51081730e-01  8.81707349e-01  1.19439694e+00 -5.20988072e-01]\n",
            " [ 1.53696425e+00  1.37901286e+00  1.52365103e+00  1.07802200e-01\n",
            "   1.59835659e+00 -4.67196331e-01  2.36433202e-01 -5.20988072e-01]\n",
            " [-1.50603807e+00  3.17588164e-01  7.92176427e-01  8.60710147e-01\n",
            "   9.65084143e-01  5.33151981e-01  9.93849516e-01 -5.20988072e-01]\n",
            " [-1.72339538e+00 -2.25734953e+00 -3.52058844e-01 -2.23753594e-01\n",
            "  -1.48065771e+00  2.65721056e-01 -3.58679616e-01 -5.20988072e-01]\n",
            " [-2.15810999e+00 -1.70698117e+00  2.27896020e-01 -1.23684074e+00\n",
            "   3.24168754e-01  6.37491656e-02 -1.04986864e+00 -5.20988072e-01]\n",
            " [-2.01894219e-01  2.27479700e-02 -1.58740556e-01  7.70913787e-01\n",
            "   5.70926638e-01  5.47975029e-02  7.77444855e-01 -5.20988072e-01]\n",
            " [-4.19251527e-01  1.99652087e-01 -1.60601530e+00  6.17415734e-01\n",
            "  -1.20213806e-01  2.87624970e+00  1.03116066e+00 -5.20988072e-01]\n",
            " [ 2.32820398e-01 -1.01902072e+00  4.50273692e-02 -8.00906271e-01\n",
            "   5.33803771e-01  2.71875324e-01 -5.95605409e-01 -5.20988072e-01]\n",
            " [-6.36608835e-01 -4.68652354e-01 -4.09531848e-01  1.73038872e-01\n",
            "  -2.04841922e+00 -6.89309463e-01 -2.46746171e-01 -5.20988072e-01]\n",
            " [-4.19251527e-01  1.04486064e+00  1.33849285e-01 -4.28673494e-01\n",
            "  -1.67828239e+00 -1.17158029e+00 -8.15741185e-01 -5.20988072e-01]\n",
            " [-5.53097870e-01  3.17588164e-01  6.09307777e-01  3.44956691e-01\n",
            "  -3.37491766e-01 -5.61748269e-01  1.65542020e-01  1.91942974e+00]\n",
            " [-8.53966144e-01 -9.51881077e-02  2.54020113e-01 -9.81266483e-01\n",
            "   6.15692449e-01  2.00234363e+00 -4.46360815e-01 -5.20988072e-01]\n",
            " [-6.36608835e-01 -6.25900457e-01 -2.52787290e-01 -2.85920305e-01\n",
            "  -8.88875533e-01 -1.32487752e+00 -6.06798754e-01 -5.20988072e-01]\n",
            " [ 6.29783482e-01  7.89332475e-01 -2.16213560e-01 -9.86526809e-02\n",
            "   2.82776634e-02 -3.52786035e-02 -9.09721261e-02  1.91942974e+00]\n",
            " [ 1.75432156e+00  1.67385306e+00  1.05341736e+00  2.42880486e-01\n",
            "   2.39102673e-02  7.23934293e-01  3.45568311e-01 -5.20988072e-01]\n",
            " [-6.36608835e-01 -5.27620393e-01 -1.00516117e+00 -1.56302410e+00\n",
            "  -2.89132668e+00 -8.13513783e-01 -1.93600842e+00 -5.20988072e-01]\n",
            " [-1.52548583e+00  3.37244177e-01  3.79415759e-01  2.16785817e-01\n",
            "   1.52411085e+00 -4.42579258e-01  3.27845516e-01  1.91942974e+00]\n",
            " [-6.67496453e-01  8.08988488e-01 -7.59594694e-01 -3.98741374e-01\n",
            "   4.26802564e-01 -9.95903912e-01 -4.68747504e-01  1.91942974e+00]\n",
            " [-1.07132345e+00 -1.29420490e+00 -1.17758018e+00  5.33103910e-02\n",
            "  -1.69347013e-01 -1.08598002e+00 -1.62796087e-01 -5.20988072e-01]\n",
            " [-8.53966144e-01 -6.65212483e-01 -2.26956727e+00  2.53625350e-01\n",
            "  -3.13471087e-01 -9.34361230e-01  2.18940981e-02 -5.20988072e-01]\n",
            " [-1.28868076e+00 -1.72663718e+00 -4.19230051e+00  1.03197258e-01\n",
            "  -2.20018623e+00  8.55688436e-02 -1.97308899e-01 -5.20988072e-01]\n",
            " [ 8.84892323e-01 -1.84457326e+00 -1.17758018e+00 -5.64519270e-01\n",
            "  -1.02426481e+00 -6.04551549e-02 -6.56236025e-01 -5.20988072e-01]\n",
            " [-2.01894219e-01  4.24039830e-02 -6.99186398e-02  1.00883577e+00\n",
            "   6.77927844e-01 -1.16206915e+00  7.94234871e-01 -5.20988072e-01]\n",
            " [ 6.67535014e-01 -4.88308367e-01 -1.99599811e-03 -5.33052170e-01\n",
            "  -4.16006754e-02 -1.41495362e+00 -7.26194429e-01 -5.20988072e-01]\n",
            " [ 1.54630894e-02  3.76556203e-01  1.31988310e+00  2.34438093e-01\n",
            "   1.44222217e+00  1.81239739e-01  4.39778961e-01 -5.20988072e-01]\n",
            " [ 8.84892323e-01  1.32004482e+00 -6.46938212e-02 -1.56214451e-01\n",
            "   4.22435168e-01 -3.35718784e-01 -1.39476619e-01 -5.20988072e-01]\n",
            " [ 4.50177706e-01 -3.62200688e-02  5.04811405e-01  2.43647976e-01\n",
            "   7.51081730e-01  2.17018730e+00  6.95360328e-01 -5.20988072e-01]\n",
            " [ 3.04891505e-01  1.10382868e+00  1.05341736e+00 -6.56505996e-02\n",
            "   8.29694861e-01  1.04675363e+00  2.35500423e-01  1.91942974e+00]\n",
            " [ 4.38737848e-01 -6.65212483e-01 -3.78182937e-01 -7.29529677e-01\n",
            "  -5.39483839e-01 -2.68581314e-01 -7.72833364e-01  1.91942974e+00]\n",
            " [ 1.10224963e+00 -3.50716276e-01  1.10566554e+00  3.85633675e-01\n",
            "  -8.74583352e-02 -1.56685529e-01  3.05458826e-01 -5.20988072e-01]\n",
            " [ 1.10224963e+00  3.09195709e-03  8.28750158e-01  1.96063580e-01\n",
            "  -6.74873121e-01  4.08947660e-01  1.52483118e-01 -5.20988072e-01]\n",
            " [-6.36608835e-01 -7.04524509e-01 -7.96168424e-01  1.88388677e-01\n",
            "   1.63666945e-01 -6.56859685e-01  7.78608208e-02 -5.20988072e-01]\n",
            " [-4.19251527e-01 -4.88308367e-01  6.87680056e-01 -8.07046193e-01\n",
            "   3.52556829e-01  9.47166383e-01 -5.08856989e-01 -5.20988072e-01]\n",
            " [ 1.75432156e+00 -4.88308367e-01  1.18174829e-01  2.31368132e-01\n",
            "   1.15069848e+00  1.17823118e+00  5.68502423e-01 -5.20988072e-01]\n",
            " [ 2.32820398e-01 -1.49076503e+00 -7.38695419e-01 -1.99961396e-01\n",
            "   4.34445508e-01 -3.34040348e-01 -1.75854989e-01 -5.20988072e-01]\n",
            " [ 3.24339264e-01  7.50020449e-01  4.63012856e-01  1.17768363e+00\n",
            "   4.02880029e-02  9.89127302e-01  1.22797697e+00 -5.20988072e-01]\n",
            " [ 2.47692214e-01 -1.34500134e-01 -1.29775101e+00 -9.27542164e-01\n",
            "  -8.26640138e-01 -1.40544248e+00 -1.18512156e+00  1.91942974e+00]\n",
            " [ 2.32820398e-01  7.10708423e-01  3.11493117e-01  1.39718584e+00\n",
            "  -3.78982030e-01  1.75729186e+00  1.49848280e+00 -5.20988072e-01]\n",
            " [ 9.55420977e-02  4.74836268e-01 -1.40747220e+00  3.28839395e-01\n",
            "  -1.94459541e-01  3.68665178e-01  3.30643852e-01  1.91942974e+00]\n",
            " [ 1.52741389e-01  1.26107679e+00  2.06996745e-01  6.49348503e-03\n",
            "   4.18067772e-01  6.89246600e-01  1.82332037e-01  1.91942974e+00]\n",
            " [ 2.32820398e-01 -1.25489287e+00  1.07725192e-01  4.07890892e-01\n",
            "   3.36179094e-01 -6.04268667e-01  3.07324384e-01 -5.20988072e-01]\n",
            " [-1.72339538e+00 -6.84868496e-01 -1.17235536e+00 -4.74722910e-01\n",
            "  -6.46485045e-01 -9.97582348e-01 -6.85152165e-01 -5.20988072e-01]\n",
            " [-4.19251527e-01  2.58620125e-01 -4.09531848e-01  1.45398012e+00\n",
            "  -1.06575508e+00  1.33600423e+00  1.38281824e+00 -5.20988072e-01]\n",
            " [ 8.84892323e-01 -5.86588431e-01 -9.99936349e-01  1.33194917e+00\n",
            "   3.40546490e-01  1.54580883e+00  1.50407947e+00 -5.20988072e-01]\n",
            " [ 8.84892323e-01  7.50020449e-01  3.06268299e-01  2.56695311e-01\n",
            "   2.21534944e-01  4.94547935e-01  3.45568311e-01 -5.20988072e-01]\n",
            " [-1.28868076e+00 -5.07964380e-01  6.98129693e-01  2.08343424e-01\n",
            "   5.78569581e-01  7.18898983e-01  3.89408911e-01 -5.20988072e-01]\n",
            " [-6.67496453e-01  8.28644501e-01 -1.16942007e-01 -4.00276354e-01\n",
            "  -3.01798117e+00 -7.55610858e-02 -7.86825045e-01  1.91942974e+00]\n",
            " [-1.50603807e+00 -1.39248496e+00 -1.34999919e+00 -4.72815394e+00\n",
            "  -1.90429514e+00 -8.34773982e-01 -4.63080612e+00 -5.20988072e-01]\n",
            " [-3.42604476e-01  6.71396397e-01  3.58516485e-01 -1.01273358e+00\n",
            "   3.28536150e-01  5.48817391e-01 -7.65371135e-01  1.91942974e+00]\n",
            " [ 1.75432156e+00  1.02520463e+00  1.11089036e+00  9.85923165e-02\n",
            "   7.39071391e-01 -7.06093830e-01  6.85330337e-02 -5.20988072e-01]\n",
            " [-1.10564303e+00 -9.99364703e-01 -2.28952725e-02  9.62898457e-02\n",
            "   2.91413283e-01  6.87568163e-01  2.44828210e-01 -5.20988072e-01]\n",
            " [ 1.31960694e+00  1.99652087e-01  7.13804149e-01 -1.51160225e+00\n",
            "   6.69193052e-01 -9.34361230e-01 -1.41924901e+00 -5.20988072e-01]\n",
            " [ 3.04891505e-01 -5.07964380e-01  2.33120838e-01  1.19687088e+00\n",
            "   2.19887356e+00  2.18753115e+00  1.75033305e+00  1.91942974e+00]\n",
            " [-8.53966144e-01 -3.50716276e-01  6.19757414e-01  1.10093460e+00\n",
            "   9.85829275e-01  1.91786231e+00  1.44997831e+00 -5.20988072e-01]\n",
            " [-1.07132345e+00 -1.33351692e+00  1.44298922e-01 -1.02117598e+00\n",
            "   9.81560022e-02 -1.19339997e+00 -1.10490259e+00 -5.20988072e-01]\n",
            " [ 8.84892323e-01  1.16279672e+00  1.31465829e+00  5.36061766e-01\n",
            "   1.56560112e+00 -2.34453099e-01  6.54318065e-01 -5.20988072e-01]\n",
            " [ 3.81538556e-01  1.35935685e+00  6.98129693e-01  1.25596763e+00\n",
            "   2.39102673e-02  1.12564016e+00  1.31938929e+00 -5.20988072e-01]\n",
            " [ 4.50177706e-01  3.76556203e-01  3.27167573e-01  1.75341343e-01\n",
            "  -3.71339086e-01 -1.19507841e+00 -1.00299913e-01 -5.20988072e-01]\n",
            " [ 1.10224963e+00  8.48300514e-01  7.97401246e-01 -1.81936585e+00\n",
            "  -3.66971690e-01 -5.06359855e-01 -1.76344436e+00 -5.20988072e-01]\n",
            " [ 6.67535014e-01  1.00554862e+00  1.33033274e+00  7.91636024e-01\n",
            "   9.07216143e-01  8.89257171e-02  8.47403258e-01 -5.20988072e-01]\n",
            " [ 1.31960694e+00 -1.93468172e-01  9.01897618e-01  1.26747999e+00\n",
            "   2.37902865e+00  2.90702104e+00  1.96207382e+00 -5.20988072e-01]\n",
            " [-9.55035364e-02 -8.61772613e-01 -3.22048425e+00  3.13489590e-01\n",
            "  -1.89228480e+00 -1.25270474e+00 -1.96376120e-01  1.91942974e+00]]\n"
          ]
        }
      ]
    },
    {
      "cell_type": "code",
      "source": [
        "print(X_test)\n"
      ],
      "metadata": {
        "colab": {
          "base_uri": "https://localhost:8080/"
        },
        "id": "KsPffp_P1fvG",
        "outputId": "2dbc0d62-6e5c-4f61-90ef-4687c6c72aaf"
      },
      "execution_count": 11,
      "outputs": [
        {
          "output_type": "stream",
          "name": "stdout",
          "text": [
            "[[-8.53966144e-01 -1.09764477e+00 -6.39423866e-01  4.39357993e-01\n",
            "  -5.23106104e-01 -7.34627255e-01  1.93525381e-01 -5.20988072e-01]\n",
            " [-1.50603807e+00 -1.93468172e-01 -1.02083562e+00 -4.25603533e-01\n",
            "   9.03940596e-01 -1.01828307e+00 -4.31436356e-01 -5.20988072e-01]\n",
            " [ 1.75432156e+00  1.18245273e+00  5.88408502e-01  1.44860769e+00\n",
            "   1.96849341e+00 -9.23731131e-01  1.40613771e+00 -5.20988072e-01]\n",
            " [ 1.08737781e+00  1.16279672e+00  3.27167573e-01 -5.65286761e-01\n",
            "   5.78569581e-01 -1.00373662e+00 -5.98403745e-01  1.91942974e+00]\n",
            " [ 4.76489380e-01  7.89332475e-01  2.12221564e-01  8.37685439e-01\n",
            "  -1.24581203e-01 -2.26934709e-03  7.30805919e-01  1.91942974e+00]\n",
            " [-1.10564303e+00 -7.43836535e-01 -1.21937873e+00 -2.39870889e-01\n",
            "  -6.09362178e-01 -2.24105883e-02 -3.01780115e-01  1.91942974e+00]\n",
            " [-1.84923382e+00 -1.21558085e+00 -7.38695419e-01 -9.06052437e-01\n",
            "  -1.52969278e-01 -1.31480690e+00 -1.05733087e+00 -5.20988072e-01]\n",
            " [ 2.32820398e-01 -1.03867673e+00  1.23399648e-01 -9.40477394e-02\n",
            "   7.01948523e-01  5.03499598e-01  9.93147312e-02 -5.20988072e-01]\n",
            " [-6.36608835e-01 -1.73812159e-01 -8.17067698e-01 -1.64656844e-01\n",
            "  -1.02426481e+00 -1.62563201e-02 -2.90586770e-01 -5.20988072e-01]\n",
            " [ 6.67535014e-01  1.45763692e+00  9.28021711e-01 -1.05560093e-01\n",
            "   8.46072597e-01 -6.51264896e-01 -9.00393473e-02 -5.20988072e-01]\n",
            " [-2.37546730e+00 -1.23523686e+00 -3.33449096e-02 -1.18141760e-03\n",
            "   1.29045516e+00 -1.21298173e+00 -3.22070672e-02 -5.20988072e-01]\n",
            " [ 1.53696425e+00  1.16279672e+00  1.08999109e+00 -5.21539816e-01\n",
            "  -3.39577320e-02  1.85715571e-01 -4.38898586e-01 -5.20988072e-01]\n",
            " [ 1.88950469e-02  3.37244177e-01 -8.64091065e-01  2.10758000e-02\n",
            "  -6.74873121e-01 -1.29018982e+00 -2.97116221e-01  1.91942974e+00]\n",
            " [ 1.75432156e+00 -3.31060263e-01  3.68966122e-01  2.84324960e-01\n",
            "  -1.97417348e+00 -8.86805522e-01 -1.71191095e-01 -5.20988072e-01]\n",
            " [-3.02753923e+00 -3.62200688e-02  4.21214308e-01 -1.72419706e+00\n",
            "  -7.74231384e-01 -1.54195534e+00 -1.91362173e+00 -5.20988072e-01]\n",
            " [-1.94075269e+00 -9.01084639e-01  2.41280948e-02 -5.27679738e-01\n",
            "   3.94047093e-01 -1.32935335e+00 -6.45975460e-01 -5.20988072e-01]\n",
            " [ 1.31617498e+00  1.32004482e+00  1.98343507e+00  1.78169846e+00\n",
            "   1.35159870e+00  7.29529082e-01  1.90424154e+00 -5.20988072e-01]\n",
            " [-8.53966144e-01 -8.61772613e-01 -1.96130297e+00 -6.26685982e-01\n",
            "  -5.97351838e-01 -1.20011372e+00 -8.48388440e-01 -5.20988072e-01]\n",
            " [-3.42604476e-01 -2.72092224e-01 -2.05763923e-01 -1.20909899e-01\n",
            "  -1.07776542e+00  3.60272994e-01 -1.94510563e-01  1.91942974e+00]\n",
            " [ 1.54630894e-02 -3.90028302e-01  4.15989489e-01 -1.66191824e-01\n",
            "   2.17167548e-01  3.82652151e-01 -5.27281989e-02 -5.20988072e-01]\n",
            " [-1.42939102e+00  1.43798090e+00 -2.47562472e-01 -1.24374815e+00\n",
            "   3.31811698e-01  6.24347045e-01 -9.57523549e-01  1.91942974e+00]\n",
            " [-7.42999518e-01 -3.11404250e-01  4.83912131e-01 -1.96011839e-02\n",
            "  -3.53869502e-01 -1.25494265e+00 -2.83124541e-01 -5.20988072e-01]\n",
            " [-2.47842603e+00 -1.11730078e+00 -1.15145609e+00 -1.62595830e+00\n",
            "  -6.99985649e-01 -1.42614320e+00 -1.79515883e+00  1.91942974e+00]\n",
            " [ 8.84892323e-01 -1.09764477e+00 -1.61124012e+00 -7.11109910e-01\n",
            "  -1.08977576e+00 -8.12954304e-01 -9.25809073e-01 -5.20988072e-01]\n",
            " [-4.19251527e-01  1.20210875e+00  1.54748560e-01 -2.05333827e-01\n",
            "   3.85312301e-01 -2.40047889e-01 -1.71191095e-01 -5.20988072e-01]\n",
            " [-1.94075269e+00 -6.84868496e-01 -4.09302895e+00 -4.72661896e+00\n",
            "  -3.75388742e+00 -1.59118948e+00 -5.01511095e+00 -5.20988072e-01]\n",
            " [-8.53966144e-01  4.24039830e-02  3.74190940e-01 -8.95307573e-01\n",
            "  -3.90992369e-01  2.20403264e-01 -8.15741185e-01 -5.20988072e-01]\n",
            " [ 6.67535014e-01  6.51740385e-01  7.45153060e-01  4.27078149e-01\n",
            "  -2.86621415e+00  2.42782421e-01  2.84235491e-02 -5.20988072e-01]\n",
            " [ 1.41112581e+00  1.04486064e+00  1.39074104e-01  1.66131460e-01\n",
            "  -1.20213806e-01 -5.74056805e-01  3.30874426e-02  1.91942974e+00]\n",
            " [ 2.32820398e-01  2.78276138e-01  6.77230418e-01 -1.81245844e+00\n",
            "   7.67459466e-01 -2.03681759e-01 -1.54890525e+00 -5.20988072e-01]]\n"
          ]
        }
      ]
    },
    {
      "cell_type": "code",
      "source": [
        "# Fitting Naive Bayes to the Training set\n",
        "from sklearn.naive_bayes import GaussianNB\n",
        "classifier = GaussianNB()\n",
        "classifier.fit(X_train, y_train)"
      ],
      "metadata": {
        "colab": {
          "base_uri": "https://localhost:8080/",
          "height": 75
        },
        "id": "QcucWwoh1kMO",
        "outputId": "dd9c1fa5-13bc-4755-ecc4-c0c2a4883ebf"
      },
      "execution_count": 12,
      "outputs": [
        {
          "output_type": "execute_result",
          "data": {
            "text/plain": [
              "GaussianNB()"
            ],
            "text/html": [
              "<style>#sk-container-id-1 {color: black;background-color: white;}#sk-container-id-1 pre{padding: 0;}#sk-container-id-1 div.sk-toggleable {background-color: white;}#sk-container-id-1 label.sk-toggleable__label {cursor: pointer;display: block;width: 100%;margin-bottom: 0;padding: 0.3em;box-sizing: border-box;text-align: center;}#sk-container-id-1 label.sk-toggleable__label-arrow:before {content: \"▸\";float: left;margin-right: 0.25em;color: #696969;}#sk-container-id-1 label.sk-toggleable__label-arrow:hover:before {color: black;}#sk-container-id-1 div.sk-estimator:hover label.sk-toggleable__label-arrow:before {color: black;}#sk-container-id-1 div.sk-toggleable__content {max-height: 0;max-width: 0;overflow: hidden;text-align: left;background-color: #f0f8ff;}#sk-container-id-1 div.sk-toggleable__content pre {margin: 0.2em;color: black;border-radius: 0.25em;background-color: #f0f8ff;}#sk-container-id-1 input.sk-toggleable__control:checked~div.sk-toggleable__content {max-height: 200px;max-width: 100%;overflow: auto;}#sk-container-id-1 input.sk-toggleable__control:checked~label.sk-toggleable__label-arrow:before {content: \"▾\";}#sk-container-id-1 div.sk-estimator input.sk-toggleable__control:checked~label.sk-toggleable__label {background-color: #d4ebff;}#sk-container-id-1 div.sk-label input.sk-toggleable__control:checked~label.sk-toggleable__label {background-color: #d4ebff;}#sk-container-id-1 input.sk-hidden--visually {border: 0;clip: rect(1px 1px 1px 1px);clip: rect(1px, 1px, 1px, 1px);height: 1px;margin: -1px;overflow: hidden;padding: 0;position: absolute;width: 1px;}#sk-container-id-1 div.sk-estimator {font-family: monospace;background-color: #f0f8ff;border: 1px dotted black;border-radius: 0.25em;box-sizing: border-box;margin-bottom: 0.5em;}#sk-container-id-1 div.sk-estimator:hover {background-color: #d4ebff;}#sk-container-id-1 div.sk-parallel-item::after {content: \"\";width: 100%;border-bottom: 1px solid gray;flex-grow: 1;}#sk-container-id-1 div.sk-label:hover label.sk-toggleable__label {background-color: #d4ebff;}#sk-container-id-1 div.sk-serial::before {content: \"\";position: absolute;border-left: 1px solid gray;box-sizing: border-box;top: 0;bottom: 0;left: 50%;z-index: 0;}#sk-container-id-1 div.sk-serial {display: flex;flex-direction: column;align-items: center;background-color: white;padding-right: 0.2em;padding-left: 0.2em;position: relative;}#sk-container-id-1 div.sk-item {position: relative;z-index: 1;}#sk-container-id-1 div.sk-parallel {display: flex;align-items: stretch;justify-content: center;background-color: white;position: relative;}#sk-container-id-1 div.sk-item::before, #sk-container-id-1 div.sk-parallel-item::before {content: \"\";position: absolute;border-left: 1px solid gray;box-sizing: border-box;top: 0;bottom: 0;left: 50%;z-index: -1;}#sk-container-id-1 div.sk-parallel-item {display: flex;flex-direction: column;z-index: 1;position: relative;background-color: white;}#sk-container-id-1 div.sk-parallel-item:first-child::after {align-self: flex-end;width: 50%;}#sk-container-id-1 div.sk-parallel-item:last-child::after {align-self: flex-start;width: 50%;}#sk-container-id-1 div.sk-parallel-item:only-child::after {width: 0;}#sk-container-id-1 div.sk-dashed-wrapped {border: 1px dashed gray;margin: 0 0.4em 0.5em 0.4em;box-sizing: border-box;padding-bottom: 0.4em;background-color: white;}#sk-container-id-1 div.sk-label label {font-family: monospace;font-weight: bold;display: inline-block;line-height: 1.2em;}#sk-container-id-1 div.sk-label-container {text-align: center;}#sk-container-id-1 div.sk-container {/* jupyter's `normalize.less` sets `[hidden] { display: none; }` but bootstrap.min.css set `[hidden] { display: none !important; }` so we also need the `!important` here to be able to override the default hidden behavior on the sphinx rendered scikit-learn.org. See: https://github.com/scikit-learn/scikit-learn/issues/21755 */display: inline-block !important;position: relative;}#sk-container-id-1 div.sk-text-repr-fallback {display: none;}</style><div id=\"sk-container-id-1\" class=\"sk-top-container\"><div class=\"sk-text-repr-fallback\"><pre>GaussianNB()</pre><b>In a Jupyter environment, please rerun this cell to show the HTML representation or trust the notebook. <br />On GitHub, the HTML representation is unable to render, please try loading this page with nbviewer.org.</b></div><div class=\"sk-container\" hidden><div class=\"sk-item\"><div class=\"sk-estimator sk-toggleable\"><input class=\"sk-toggleable__control sk-hidden--visually\" id=\"sk-estimator-id-1\" type=\"checkbox\" checked><label for=\"sk-estimator-id-1\" class=\"sk-toggleable__label sk-toggleable__label-arrow\">GaussianNB</label><div class=\"sk-toggleable__content\"><pre>GaussianNB()</pre></div></div></div></div></div>"
            ]
          },
          "metadata": {},
          "execution_count": 12
        }
      ]
    },
    {
      "cell_type": "code",
      "source": [
        "# Predicting the Test set results\n",
        "y_pred = classifier.predict(X_test)\n",
        "\n"
      ],
      "metadata": {
        "id": "i2oDZiGk1mzP"
      },
      "execution_count": 13,
      "outputs": []
    },
    {
      "cell_type": "code",
      "source": [
        "# Making the Confusion Matrix\n",
        "from sklearn.metrics import confusion_matrix\n",
        "cm = confusion_matrix(y_test, y_pred)\n",
        "print('Confusion matrix: ')\n",
        "print(cm)\n"
      ],
      "metadata": {
        "colab": {
          "base_uri": "https://localhost:8080/"
        },
        "id": "3aWeu6c71pu4",
        "outputId": "4bb8601a-3be1-4052-d415-8ebef29c1bbe"
      },
      "execution_count": 14,
      "outputs": [
        {
          "output_type": "stream",
          "name": "stdout",
          "text": [
            "Confusion matrix: \n",
            "[[10  3]\n",
            " [ 4 13]]\n"
          ]
        }
      ]
    },
    {
      "cell_type": "code",
      "source": [
        "import seaborn as sns\n",
        "sns.heatmap(cm, annot=True)\n",
        "\n"
      ],
      "metadata": {
        "colab": {
          "base_uri": "https://localhost:8080/",
          "height": 448
        },
        "id": "2bJdkE2S1sKW",
        "outputId": "cfab8a25-1b87-4103-ebf9-1b297ed80a76"
      },
      "execution_count": 15,
      "outputs": [
        {
          "output_type": "execute_result",
          "data": {
            "text/plain": [
              "<Axes: >"
            ]
          },
          "metadata": {},
          "execution_count": 15
        },
        {
          "output_type": "display_data",
          "data": {
            "text/plain": [
              "<Figure size 640x480 with 2 Axes>"
            ],
            "image/png": "[encoded data removed]"
          },
          "metadata": {}
        }
      ]
    },
    {
      "cell_type": "code",
      "source": [
        "# calculate Accuracy\n",
        "from sklearn.metrics import accuracy_score\n",
        "print('Accuracy: %.2f' % (accuracy_score(y_test, y_pred)*100))\n"
      ],
      "metadata": {
        "colab": {
          "base_uri": "https://localhost:8080/"
        },
        "id": "cxoKyrnr1wiI",
        "outputId": "052e2f3b-d929-4e4e-d0a9-9976765b1e00"
      },
      "execution_count": 16,
      "outputs": [
        {
          "output_type": "stream",
          "name": "stdout",
          "text": [
            "Accuracy: 76.67\n"
          ]
        }
      ]
    },
    {
      "cell_type": "code",
      "source": [
        "from sklearn.metrics import precision_score, recall_score, f1_score\n",
        "# calculate precision\n",
        "# Precision = TruePositives / (TruePositives + FalsePositives)\n",
        "precision = precision_score(y_test, y_pred, average='binary')\n",
        "print('Precision: %.3f' % (precision*100))\n"
      ],
      "metadata": {
        "colab": {
          "base_uri": "https://localhost:8080/"
        },
        "id": "wGqeGoFS2GBm",
        "outputId": "43d30797-e92e-4ee8-9922-88eaa980b99f"
      },
      "execution_count": 17,
      "outputs": [
        {
          "output_type": "stream",
          "name": "stdout",
          "text": [
            "Precision: 81.250\n"
          ]
        }
      ]
    },
    {
      "cell_type": "code",
      "source": [
        "# calculate recall\n",
        "# Recall = TruePositives / (TruePositives + FalseNegatives)\n",
        "recall = recall_score(y_test, y_pred, average='binary')\n",
        "print('Recall: %.3f' % (recall*100))\n"
      ],
      "metadata": {
        "colab": {
          "base_uri": "https://localhost:8080/"
        },
        "id": "rx8wIcfr2Js-",
        "outputId": "d4f96101-e2be-446d-c967-4251af906104"
      },
      "execution_count": 18,
      "outputs": [
        {
          "output_type": "stream",
          "name": "stdout",
          "text": [
            "Recall: 76.471\n"
          ]
        }
      ]
    },
    {
      "cell_type": "code",
      "source": [
        "# F-Measure = (2 * Precision * Recall) / (Precision + Recall)\n",
        "# calculate score\n",
        "score = f1_score(y_test, y_pred, average='binary')\n",
        "print('F-Measure: %.3f' % (score*100))\n"
      ],
      "metadata": {
        "colab": {
          "base_uri": "https://localhost:8080/"
        },
        "id": "pyo57jLs2f4P",
        "outputId": "9c42ac82-86b0-4fa1-ba92-96dba66d8fda"
      },
      "execution_count": 19,
      "outputs": [
        {
          "output_type": "stream",
          "name": "stdout",
          "text": [
            "F-Measure: 78.788\n"
          ]
        }
      ]
    },
    {
      "cell_type": "code",
      "source": [
        "import pickle\n",
        "print(\"[INFO] Saving model...\")\n",
        "# Save the trained model as a pickle string.\n",
        "saved_model=pickle.dump(classifier,open('/content/drive/My Drive/Naive_Bayes_education_model.pkl', 'wb'))\n",
        "# Saving model to disk\n"
      ],
      "metadata": {
        "colab": {
          "base_uri": "https://localhost:8080/"
        },
        "id": "-BbWoaYb2jm2",
        "outputId": "017781b6-c468-4c60-e4c7-ef0b8ea3fd87"
      },
      "execution_count": 20,
      "outputs": [
        {
          "output_type": "stream",
          "name": "stdout",
          "text": [
            "[INFO] Saving model...\n"
          ]
        }
      ]
    },
    {
      "cell_type": "code",
      "source": [
        "# Load the pickled model\n",
        "model = pickle.load(open('/content/drive/My Drive/Naive_Bayes_education_model.pkl','rb'))\n",
        "# Use the loaded pickled model to make predictions\n",
        "model.predict(X_test)\n"
      ],
      "metadata": {
        "colab": {
          "base_uri": "https://localhost:8080/"
        },
        "id": "QlOvtUV02l69",
        "outputId": "75a2715d-4da2-4591-9bbf-e1e7ab3f73db"
      },
      "execution_count": 21,
      "outputs": [
        {
          "output_type": "execute_result",
          "data": {
            "text/plain": [
              "array([0, 0, 1, 1, 1, 0, 0, 1, 0, 1, 0, 1, 0, 0, 1, 0, 1, 0, 0, 1, 1, 0,\n",
              "       1, 0, 1, 1, 1, 0, 1, 1])"
            ]
          },
          "metadata": {},
          "execution_count": 21
        }
      ]
    }
  ]
}